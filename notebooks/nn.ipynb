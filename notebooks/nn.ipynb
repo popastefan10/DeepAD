{
 "cells": [
  {
   "cell_type": "code",
   "execution_count": 18,
   "metadata": {},
   "outputs": [
    {
     "name": "stdout",
     "output_type": "stream",
     "text": [
      "The autoreload extension is already loaded. To reload it, use:\n",
      "  %reload_ext autoreload\n"
     ]
    }
   ],
   "source": [
    "%load_ext autoreload\n",
    "%autoreload 2\n",
    "\n",
    "from torch import Tensor\n",
    "from torch.utils.data import DataLoader\n",
    "\n",
    "from src.deep_ad.config import Config\n",
    "from src.deep_ad.data.dagm_dataset import DAGMDataset, use_dagm\n",
    "from src.deep_ad.data.dagm_split import dagm_get_datasets\n",
    "from src.deep_ad.image import show_image_with_label"
   ]
  },
  {
   "cell_type": "code",
   "execution_count": 3,
   "metadata": {},
   "outputs": [],
   "source": [
    "# Load the configuration\n",
    "config = Config()"
   ]
  },
  {
   "cell_type": "code",
   "execution_count": 4,
   "metadata": {},
   "outputs": [],
   "source": [
    "# Get the datasets\n",
    "dummy = DAGMDataset\n",
    "train_dataset, val_dataset, test_dataset = dagm_get_datasets(config, use_dagm())"
   ]
  },
  {
   "cell_type": "code",
   "execution_count": 23,
   "metadata": {},
   "outputs": [],
   "source": [
    "# Create the dataloaders\n",
    "train_dataloader = DataLoader(train_dataset, batch_size=config.batch_size, shuffle=True)"
   ]
  },
  {
   "cell_type": "code",
   "execution_count": 32,
   "metadata": {},
   "outputs": [
    {
     "name": "stdout",
     "output_type": "stream",
     "text": [
      "images.shape = torch.Size([32, 512, 512])\n",
      "labels.shape = torch.Size([32, 512, 512])\n"
     ]
    }
   ],
   "source": [
    "for batch in train_dataloader:\n",
    "    images: Tensor = batch[0]\n",
    "    labels: Tensor = batch[1]\n",
    "    print(f\"images.shape = {images.shape}\")\n",
    "    print(f\"labels.shape = {labels.shape}\")\n",
    "    for i in range(1, 6):\n",
    "        show_image_with_label(images[i].numpy(), labels[i].numpy())\n",
    "    break"
   ]
  },
  {
   "cell_type": "code",
   "execution_count": 31,
   "metadata": {},
   "outputs": [
    {
     "name": "stdout",
     "output_type": "stream",
     "text": [
      "len(train_dataloader) = 176\n",
      "config.batch_size = 32\n",
      "len(train_dataloader) * config.batch_size = 5632\n",
      "len(train_dataset) = 5607\n"
     ]
    }
   ],
   "source": [
    "print(f\"len(train_dataloader) = {len(train_dataloader)}\")\n",
    "print(f\"config.batch_size = {config.batch_size}\")\n",
    "print(f\"len(train_dataloader) * config.batch_size = {len(train_dataloader) * config.batch_size}\")\n",
    "print(f\"len(train_dataset) = {len(train_dataset)}\")"
   ]
  }
 ],
 "metadata": {
  "kernelspec": {
   "display_name": "deep-ad",
   "language": "python",
   "name": "python3"
  },
  "language_info": {
   "codemirror_mode": {
    "name": "ipython",
    "version": 3
   },
   "file_extension": ".py",
   "mimetype": "text/x-python",
   "name": "python",
   "nbconvert_exporter": "python",
   "pygments_lexer": "ipython3",
   "version": "3.12.2"
  }
 },
 "nbformat": 4,
 "nbformat_minor": 2
}
