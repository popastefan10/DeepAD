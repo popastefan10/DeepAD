{
 "cells": [
  {
   "cell_type": "code",
   "execution_count": 12,
   "metadata": {},
   "outputs": [
    {
     "name": "stdout",
     "output_type": "stream",
     "text": [
      "The autoreload extension is already loaded. To reload it, use:\n",
      "  %reload_ext autoreload\n"
     ]
    }
   ],
   "source": [
    "%load_ext autoreload\n",
    "%autoreload 2\n",
    "\n",
    "import cv2 as cv\n",
    "import pandas as pd\n",
    "import torch\n",
    "\n",
    "from src.deep_ad.config import Config\n",
    "from src.deep_ad.data.dagm_dataset import DAGMDataset, dagm_get_class, dagm_get_image_key, dagm_get_image_name, dagm_get_label_key, dagm_get_label_name\n",
    "from src.deep_ad.image import show_image_with_label"
   ]
  },
  {
   "cell_type": "code",
   "execution_count": 13,
   "metadata": {},
   "outputs": [],
   "source": [
    "# Load configuration\n",
    "cfg = Config()"
   ]
  },
  {
   "cell_type": "markdown",
   "metadata": {},
   "source": [
    "#### DAGM 2007 Dataset\n"
   ]
  },
  {
   "cell_type": "code",
   "execution_count": 4,
   "metadata": {},
   "outputs": [],
   "source": [
    "# Display some random images from the dataset\n",
    "dagm_dataset = DAGMDataset(img_dir=cfg.DAGM_dir)\n",
    "limit = 1\n",
    "while True:\n",
    "    i = torch.randint(0, len(dagm_dataset), (1,)).item()\n",
    "    image, label = dagm_dataset[i]\n",
    "    if torch.all(label == 0):\n",
    "        continue\n",
    "    title = f\"Image {\n",
    "        i} - class {dagm_get_class(dagm_dataset.image_paths[i])} - {dagm_get_image_name(dagm_dataset.image_paths[i])}.png\"\n",
    "    image = cv.cvtColor(image.squeeze().numpy(), cv.COLOR_BGR2RGB)\n",
    "    label = cv.cvtColor(label.squeeze().numpy(), cv.COLOR_BGR2RGB)\n",
    "    show_image_with_label(image, label, title)\n",
    "\n",
    "    limit -= 1\n",
    "    if limit == 0:\n",
    "        break"
   ]
  },
  {
   "cell_type": "code",
   "execution_count": 49,
   "metadata": {},
   "outputs": [
    {
     "data": {
      "text/html": [
       "<style type=\"text/css\">\n",
       "</style>\n",
       "<table id=\"T_fb37f\">\n",
       "  <thead>\n",
       "    <tr>\n",
       "      <th id=\"T_fb37f_level0_col0\" class=\"col_heading level0 col0\" >Class</th>\n",
       "      <th id=\"T_fb37f_level0_col1\" class=\"col_heading level0 col1\" >Number of images</th>\n",
       "      <th id=\"T_fb37f_level0_col2\" class=\"col_heading level0 col2\" >Number of labels</th>\n",
       "      <th id=\"T_fb37f_level0_col3\" class=\"col_heading level0 col3\" >Number of defect-free images</th>\n",
       "      <th id=\"T_fb37f_level0_col4\" class=\"col_heading level0 col4\" >Percentage of images with defects</th>\n",
       "    </tr>\n",
       "  </thead>\n",
       "  <tbody>\n",
       "    <tr>\n",
       "      <td id=\"T_fb37f_row0_col0\" class=\"data row0 col0\" >1</td>\n",
       "      <td id=\"T_fb37f_row0_col1\" class=\"data row0 col1\" >575</td>\n",
       "      <td id=\"T_fb37f_row0_col2\" class=\"data row0 col2\" >79</td>\n",
       "      <td id=\"T_fb37f_row0_col3\" class=\"data row0 col3\" >496</td>\n",
       "      <td id=\"T_fb37f_row0_col4\" class=\"data row0 col4\" >13.74%</td>\n",
       "    </tr>\n",
       "    <tr>\n",
       "      <td id=\"T_fb37f_row1_col0\" class=\"data row1 col0\" >2</td>\n",
       "      <td id=\"T_fb37f_row1_col1\" class=\"data row1 col1\" >575</td>\n",
       "      <td id=\"T_fb37f_row1_col2\" class=\"data row1 col2\" >66</td>\n",
       "      <td id=\"T_fb37f_row1_col3\" class=\"data row1 col3\" >509</td>\n",
       "      <td id=\"T_fb37f_row1_col4\" class=\"data row1 col4\" >11.48%</td>\n",
       "    </tr>\n",
       "    <tr>\n",
       "      <td id=\"T_fb37f_row2_col0\" class=\"data row2 col0\" >3</td>\n",
       "      <td id=\"T_fb37f_row2_col1\" class=\"data row2 col1\" >575</td>\n",
       "      <td id=\"T_fb37f_row2_col2\" class=\"data row2 col2\" >66</td>\n",
       "      <td id=\"T_fb37f_row2_col3\" class=\"data row2 col3\" >509</td>\n",
       "      <td id=\"T_fb37f_row2_col4\" class=\"data row2 col4\" >11.48%</td>\n",
       "    </tr>\n",
       "    <tr>\n",
       "      <td id=\"T_fb37f_row3_col0\" class=\"data row3 col0\" >4</td>\n",
       "      <td id=\"T_fb37f_row3_col1\" class=\"data row3 col1\" >575</td>\n",
       "      <td id=\"T_fb37f_row3_col2\" class=\"data row3 col2\" >82</td>\n",
       "      <td id=\"T_fb37f_row3_col3\" class=\"data row3 col3\" >493</td>\n",
       "      <td id=\"T_fb37f_row3_col4\" class=\"data row3 col4\" >14.26%</td>\n",
       "    </tr>\n",
       "    <tr>\n",
       "      <td id=\"T_fb37f_row4_col0\" class=\"data row4 col0\" >5</td>\n",
       "      <td id=\"T_fb37f_row4_col1\" class=\"data row4 col1\" >575</td>\n",
       "      <td id=\"T_fb37f_row4_col2\" class=\"data row4 col2\" >70</td>\n",
       "      <td id=\"T_fb37f_row4_col3\" class=\"data row4 col3\" >505</td>\n",
       "      <td id=\"T_fb37f_row4_col4\" class=\"data row4 col4\" >12.17%</td>\n",
       "    </tr>\n",
       "    <tr>\n",
       "      <td id=\"T_fb37f_row5_col0\" class=\"data row5 col0\" >6</td>\n",
       "      <td id=\"T_fb37f_row5_col1\" class=\"data row5 col1\" >575</td>\n",
       "      <td id=\"T_fb37f_row5_col2\" class=\"data row5 col2\" >83</td>\n",
       "      <td id=\"T_fb37f_row5_col3\" class=\"data row5 col3\" >492</td>\n",
       "      <td id=\"T_fb37f_row5_col4\" class=\"data row5 col4\" >14.43%</td>\n",
       "    </tr>\n",
       "    <tr>\n",
       "      <td id=\"T_fb37f_row6_col0\" class=\"data row6 col0\" >7</td>\n",
       "      <td id=\"T_fb37f_row6_col1\" class=\"data row6 col1\" >1150</td>\n",
       "      <td id=\"T_fb37f_row6_col2\" class=\"data row6 col2\" >150</td>\n",
       "      <td id=\"T_fb37f_row6_col3\" class=\"data row6 col3\" >1000</td>\n",
       "      <td id=\"T_fb37f_row6_col4\" class=\"data row6 col4\" >13.04%</td>\n",
       "    </tr>\n",
       "    <tr>\n",
       "      <td id=\"T_fb37f_row7_col0\" class=\"data row7 col0\" >8</td>\n",
       "      <td id=\"T_fb37f_row7_col1\" class=\"data row7 col1\" >1150</td>\n",
       "      <td id=\"T_fb37f_row7_col2\" class=\"data row7 col2\" >150</td>\n",
       "      <td id=\"T_fb37f_row7_col3\" class=\"data row7 col3\" >1000</td>\n",
       "      <td id=\"T_fb37f_row7_col4\" class=\"data row7 col4\" >13.04%</td>\n",
       "    </tr>\n",
       "    <tr>\n",
       "      <td id=\"T_fb37f_row8_col0\" class=\"data row8 col0\" >9</td>\n",
       "      <td id=\"T_fb37f_row8_col1\" class=\"data row8 col1\" >1150</td>\n",
       "      <td id=\"T_fb37f_row8_col2\" class=\"data row8 col2\" >150</td>\n",
       "      <td id=\"T_fb37f_row8_col3\" class=\"data row8 col3\" >1000</td>\n",
       "      <td id=\"T_fb37f_row8_col4\" class=\"data row8 col4\" >13.04%</td>\n",
       "    </tr>\n",
       "    <tr>\n",
       "      <td id=\"T_fb37f_row9_col0\" class=\"data row9 col0\" >10</td>\n",
       "      <td id=\"T_fb37f_row9_col1\" class=\"data row9 col1\" >1150</td>\n",
       "      <td id=\"T_fb37f_row9_col2\" class=\"data row9 col2\" >150</td>\n",
       "      <td id=\"T_fb37f_row9_col3\" class=\"data row9 col3\" >1000</td>\n",
       "      <td id=\"T_fb37f_row9_col4\" class=\"data row9 col4\" >13.04%</td>\n",
       "    </tr>\n",
       "    <tr>\n",
       "      <td id=\"T_fb37f_row10_col0\" class=\"data row10 col0\" >Total</td>\n",
       "      <td id=\"T_fb37f_row10_col1\" class=\"data row10 col1\" >8050</td>\n",
       "      <td id=\"T_fb37f_row10_col2\" class=\"data row10 col2\" >1046</td>\n",
       "      <td id=\"T_fb37f_row10_col3\" class=\"data row10 col3\" >7004</td>\n",
       "      <td id=\"T_fb37f_row10_col4\" class=\"data row10 col4\" >12.99%</td>\n",
       "    </tr>\n",
       "  </tbody>\n",
       "</table>\n"
      ],
      "text/plain": [
       "<pandas.io.formats.style.Styler at 0x29d5b3f3cb0>"
      ]
     },
     "metadata": {},
     "output_type": "display_data"
    }
   ],
   "source": [
    "# Dataset statistics\n",
    "\n",
    "class_statistics_df = pd.DataFrame(columns=[\n",
    "    \"Class\", \n",
    "    \"Number of images\", \n",
    "    \"Number of labels\", \n",
    "    \"Number of defect-free images\", \n",
    "    \"Percentage of images with defects\"\n",
    "])\n",
    "\n",
    "# Add class statistics\n",
    "for cls in dagm_dataset.classes:\n",
    "    class_dagm_dataset = DAGMDataset(img_dir=cfg.DAGM_dir, class_index=cls)\n",
    "    class_total_images = len(class_dagm_dataset)\n",
    "    class_total_labels = len(class_dagm_dataset.label_paths)\n",
    "    class_statistics_df.loc[len(class_statistics_df)] = {\n",
    "        \"Class\": cls,\n",
    "        \"Number of images\": class_total_images,\n",
    "        \"Number of labels\": class_total_labels,\n",
    "        \"Number of defect-free images\": class_total_images - class_total_labels,\n",
    "        \"Percentage of images with defects\": f\"{100 * class_total_labels / class_total_images:.2f}%\"\n",
    "    }\n",
    "\n",
    "# Add total statistics\n",
    "dagm_dataset = DAGMDataset(img_dir=cfg.DAGM_dir)\n",
    "total_images = len(dagm_dataset)\n",
    "total_labels = len(dagm_dataset.label_paths)\n",
    "class_statistics_df.loc[\"Total\"] = {\n",
    "    \"Class\": \"Total\",\n",
    "    \"Number of images\": total_images,\n",
    "    \"Number of labels\": total_labels,\n",
    "    \"Number of defect-free images\": total_images - total_labels,\n",
    "    \"Percentage of images with defects\": f\"{100 * total_labels / total_images:.2f}%\"\n",
    "}\n",
    "\n",
    "# Display statistics without the index column\n",
    "display(class_statistics_df.style.hide())"
   ]
  }
 ],
 "metadata": {
  "kernelspec": {
   "display_name": "deep-ad",
   "language": "python",
   "name": "python3"
  },
  "language_info": {
   "codemirror_mode": {
    "name": "ipython",
    "version": 3
   },
   "file_extension": ".py",
   "mimetype": "text/x-python",
   "name": "python",
   "nbconvert_exporter": "python",
   "pygments_lexer": "ipython3",
   "version": "3.12.2"
  }
 },
 "nbformat": 4,
 "nbformat_minor": 2
}
