{
 "cells": [
  {
   "cell_type": "code",
   "execution_count": 1,
   "metadata": {},
   "outputs": [],
   "source": [
    "%load_ext autoreload\n",
    "%autoreload 2\n",
    "\n",
    "import cv2 as cv\n",
    "import torch\n",
    "\n",
    "from src.deep_ad.config import Config\n",
    "from src.deep_ad.data.dagm_dataset import DAGMDataset, dagm_get_class, dagm_get_image_key, dagm_get_image_name, dagm_get_label_key, dagm_get_label_name\n",
    "from src.deep_ad.image import show_image_with_label"
   ]
  },
  {
   "cell_type": "code",
   "execution_count": 2,
   "metadata": {},
   "outputs": [],
   "source": [
    "# Load configuration\n",
    "cfg = Config()"
   ]
  },
  {
   "cell_type": "markdown",
   "metadata": {},
   "source": [
    "#### DAGM 2007 Dataset"
   ]
  },
  {
   "cell_type": "code",
   "execution_count": 4,
   "metadata": {},
   "outputs": [],
   "source": [
    "# Display some random images from the dataset\n",
    "dagm_dataset = DAGMDataset(img_dir=cfg.DAGM_dir)\n",
    "limit = 1\n",
    "while True:\n",
    "    i = torch.randint(0, len(dagm_dataset), (1,)).item()\n",
    "    image, label = dagm_dataset[i]\n",
    "    if torch.all(label == 0):\n",
    "        continue\n",
    "    title = f\"Image {\n",
    "        i} - class {dagm_get_class(dagm_dataset.image_paths[i])} - {dagm_get_image_name(dagm_dataset.image_paths[i])}.png\"\n",
    "    image = cv.cvtColor(image.squeeze().numpy(), cv.COLOR_BGR2RGB)\n",
    "    label = cv.cvtColor(label.squeeze().numpy(), cv.COLOR_BGR2RGB)\n",
    "    show_image_with_label(image, label, title)\n",
    "\n",
    "    limit -= 1\n",
    "    if limit == 0:\n",
    "        break"
   ]
  }
 ],
 "metadata": {
  "kernelspec": {
   "display_name": "deep-ad",
   "language": "python",
   "name": "python3"
  },
  "language_info": {
   "codemirror_mode": {
    "name": "ipython",
    "version": 3
   },
   "file_extension": ".py",
   "mimetype": "text/x-python",
   "name": "python",
   "nbconvert_exporter": "python",
   "pygments_lexer": "ipython3",
   "version": "3.12.2"
  }
 },
 "nbformat": 4,
 "nbformat_minor": 2
}
